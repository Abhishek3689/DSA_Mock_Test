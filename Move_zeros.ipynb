{
 "cells": [
  {
   "cell_type": "markdown",
   "id": "7d6500c6-1644-401a-8640-3da10b1caee1",
   "metadata": {},
   "source": [
    "Given an integer array nums, move all 0's to the end of it while maintaining the relative order of the non-zero elements.\n",
    "\n",
    "Note that you must do this in-place without making a copy of the array.\n",
    "\n",
    "Example 1:\n",
    "- Input: nums = [0,1,0,3,12]\n",
    "- Output: [1,3,12,0,0]\n",
    "\n",
    "Example 2:\n",
    "- Input: nums = [0]\n",
    "- Output: [0]"
   ]
  },
  {
   "cell_type": "code",
   "execution_count": 1,
   "id": "8a6ea761-a530-411d-a96a-85d9a64d161b",
   "metadata": {},
   "outputs": [],
   "source": [
    "def move_zeroes(arr):\n",
    "    for i in range(len(arr)):\n",
    "        j=i-1\n",
    "        key=arr[i]\n",
    "        while(j>=0 and arr[j]==0):\n",
    "            arr[j+1]=arr[j]\n",
    "            j=j-1\n",
    "        arr[j+1]=key\n",
    "    return arr\n",
    "            "
   ]
  },
  {
   "cell_type": "code",
   "execution_count": 2,
   "id": "b02354fb-19f5-422a-9cd8-09139e1b2191",
   "metadata": {},
   "outputs": [],
   "source": [
    "l1=[0,1,0,3,12,-1]"
   ]
  },
  {
   "cell_type": "code",
   "execution_count": 3,
   "id": "cbf984b7-8485-4622-8e71-4cf5608a70ca",
   "metadata": {},
   "outputs": [
    {
     "data": {
      "text/plain": [
       "[1, 3, 12, -1, 0, 0]"
      ]
     },
     "execution_count": 3,
     "metadata": {},
     "output_type": "execute_result"
    }
   ],
   "source": [
    "move_zeroes(l1)"
   ]
  },
  {
   "cell_type": "code",
   "execution_count": 6,
   "id": "61c8cda3-1702-4d19-9806-14f4f76819db",
   "metadata": {},
   "outputs": [
    {
     "data": {
      "text/plain": [
       "[2, 4, 2, 0]"
      ]
     },
     "execution_count": 6,
     "metadata": {},
     "output_type": "execute_result"
    }
   ],
   "source": [
    "move_zeroes([2,4,0,2])"
   ]
  },
  {
   "cell_type": "code",
   "execution_count": 8,
   "id": "03194a87-fea1-49fd-8bc2-a716d1e51374",
   "metadata": {},
   "outputs": [
    {
     "data": {
      "text/plain": [
       "[0]"
      ]
     },
     "execution_count": 8,
     "metadata": {},
     "output_type": "execute_result"
    }
   ],
   "source": [
    "move_zeroes([0])"
   ]
  },
  {
   "cell_type": "code",
   "execution_count": null,
   "id": "c14b3ba8-2210-4f12-9ede-4dd7c3c92bf4",
   "metadata": {},
   "outputs": [],
   "source": []
  }
 ],
 "metadata": {
  "kernelspec": {
   "display_name": "Python 3 (ipykernel)",
   "language": "python",
   "name": "python3"
  },
  "language_info": {
   "codemirror_mode": {
    "name": "ipython",
    "version": 3
   },
   "file_extension": ".py",
   "mimetype": "text/x-python",
   "name": "python",
   "nbconvert_exporter": "python",
   "pygments_lexer": "ipython3",
   "version": "3.10.8"
  }
 },
 "nbformat": 4,
 "nbformat_minor": 5
}
