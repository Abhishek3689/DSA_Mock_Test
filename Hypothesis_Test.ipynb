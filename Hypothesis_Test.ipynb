{
 "cells": [
  {
   "cell_type": "markdown",
   "id": "d2c67aa2-fffb-41f8-a29f-f9559dc6f0e4",
   "metadata": {},
   "source": [
    "Q. Write a function called ‘perform_hypothesis_test’ that takes two lists of numbers as input, representing two samples. The function should perform a two-sample t-test and return the p-value. Use the ‘scipy.stats’ module in Python to calculate the t-test and p-value."
   ]
  },
  {
   "cell_type": "code",
   "execution_count": 1,
   "id": "c646adb6-bbca-44f8-81ec-9980f222553a",
   "metadata": {},
   "outputs": [
    {
     "name": "stdout",
     "output_type": "stream",
     "text": [
      "T_statistic -1.6762327098469876\n",
      "P-value: 0.11952935523729612\n"
     ]
    }
   ],
   "source": [
    "from scipy import stats\n",
    "\n",
    "def perform_hypothesis_test(sample1, sample2):\n",
    "    t_statistic, p_value = stats.ttest_ind(sample1, sample2)\n",
    "    return t_statistic, p_value\n",
    "\n",
    "sample1 = [5, 10, 15, 20, 25,35,50]\n",
    "sample2 = [10, 20, 30, 40, 50,55,75]\n",
    "t_statistic,p_value = perform_hypothesis_test(sample1, sample2)\n",
    "print(\"T_statistic\",t_statistic)\n",
    "print(\"P-value:\", p_value)"
   ]
  },
  {
   "cell_type": "code",
   "execution_count": null,
   "id": "8aa6a5e6-b79e-4fb6-9301-3a61bc6e4f57",
   "metadata": {},
   "outputs": [],
   "source": []
  }
 ],
 "metadata": {
  "kernelspec": {
   "display_name": "Python 3 (ipykernel)",
   "language": "python",
   "name": "python3"
  },
  "language_info": {
   "codemirror_mode": {
    "name": "ipython",
    "version": 3
   },
   "file_extension": ".py",
   "mimetype": "text/x-python",
   "name": "python",
   "nbconvert_exporter": "python",
   "pygments_lexer": "ipython3",
   "version": "3.10.8"
  }
 },
 "nbformat": 4,
 "nbformat_minor": 5
}
