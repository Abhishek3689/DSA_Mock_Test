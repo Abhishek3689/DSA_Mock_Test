{
 "cells": [
  {
   "cell_type": "markdown",
   "id": "4bab76dd-24fa-4642-90ae-e84cfacae7a1",
   "metadata": {},
   "source": [
    "Q. Write a function called ‘calculate_mean’ that takes a list of numbers as input and returns the mean (average) of the numbers. The function should calculate the mean using the sum of the numbers divided by the total count."
   ]
  },
  {
   "cell_type": "code",
   "execution_count": 1,
   "id": "1a1ea553-1d0f-474a-ab2d-0da721915cad",
   "metadata": {},
   "outputs": [],
   "source": [
    "def calculate_mean(num_list:list[int]):\n",
    "    sum_num=0\n",
    "    for num in num_list:\n",
    "        sum_num+=num\n",
    "    average=sum_num/len(num_list)\n",
    "    return average"
   ]
  },
  {
   "cell_type": "code",
   "execution_count": 2,
   "id": "4f4b0ade-610e-4a1b-8588-00fa5c1e906a",
   "metadata": {},
   "outputs": [
    {
     "data": {
      "text/plain": [
       "8.8"
      ]
     },
     "execution_count": 2,
     "metadata": {},
     "output_type": "execute_result"
    }
   ],
   "source": [
    "calculate_mean([1,4,7,11,21])"
   ]
  },
  {
   "cell_type": "code",
   "execution_count": null,
   "id": "ecd7c0c1-28bf-47ac-ada1-c47956625c38",
   "metadata": {},
   "outputs": [],
   "source": []
  }
 ],
 "metadata": {
  "kernelspec": {
   "display_name": "Python 3 (ipykernel)",
   "language": "python",
   "name": "python3"
  },
  "language_info": {
   "codemirror_mode": {
    "name": "ipython",
    "version": 3
   },
   "file_extension": ".py",
   "mimetype": "text/x-python",
   "name": "python",
   "nbconvert_exporter": "python",
   "pygments_lexer": "ipython3",
   "version": "3.10.8"
  }
 },
 "nbformat": 4,
 "nbformat_minor": 5
}
