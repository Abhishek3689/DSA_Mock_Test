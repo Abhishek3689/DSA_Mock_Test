{
 "cells": [
  {
   "cell_type": "markdown",
   "id": "952e08bc-74b0-404a-b8c0-40e16c81bc19",
   "metadata": {},
   "source": [
    "Q. Implement a decorator function called ‘timer’ that measures the execution time of a function. The ‘timer’ decorator should print the time taken by the decorated function to execute. \n",
    "\n",
    "Use the ‘time’ module in Python to calculate the execution time"
   ]
  },
  {
   "cell_type": "code",
   "execution_count": 1,
   "id": "a29d3e39-b51c-4a10-a83e-5ebc225847f6",
   "metadata": {},
   "outputs": [],
   "source": [
    "import time\n",
    "def timer(func):\n",
    "    def timer_deco():\n",
    "        start=time.time()\n",
    "        func()\n",
    "        end=time.time()\n",
    "        print(\"Time taken to execute function\",round(end-start,4))\n",
    "    return timer_deco"
   ]
  },
  {
   "cell_type": "code",
   "execution_count": 2,
   "id": "b570a4fd-0aaf-4be1-a3a8-035b9620114f",
   "metadata": {},
   "outputs": [],
   "source": [
    "@timer\n",
    "def time_to_execute():\n",
    "    for i in range(10000000):\n",
    "        pass"
   ]
  },
  {
   "cell_type": "code",
   "execution_count": 3,
   "id": "a25dc409-c399-4b33-ac77-96c3d5b382be",
   "metadata": {},
   "outputs": [
    {
     "name": "stdout",
     "output_type": "stream",
     "text": [
      "Time taken to execute function 0.2279\n"
     ]
    }
   ],
   "source": [
    "time_to_execute()"
   ]
  },
  {
   "cell_type": "code",
   "execution_count": null,
   "id": "f6872885-0d44-41a2-b31a-e0769dc6b46e",
   "metadata": {},
   "outputs": [],
   "source": []
  }
 ],
 "metadata": {
  "kernelspec": {
   "display_name": "Python 3 (ipykernel)",
   "language": "python",
   "name": "python3"
  },
  "language_info": {
   "codemirror_mode": {
    "name": "ipython",
    "version": 3
   },
   "file_extension": ".py",
   "mimetype": "text/x-python",
   "name": "python",
   "nbconvert_exporter": "python",
   "pygments_lexer": "ipython3",
   "version": "3.10.8"
  }
 },
 "nbformat": 4,
 "nbformat_minor": 5
}
