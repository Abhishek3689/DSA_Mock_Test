{
 "cells": [
  {
   "cell_type": "markdown",
   "id": "e2a95048-d106-4167-b07a-2b47d0b379f3",
   "metadata": {},
   "source": [
    "Q. Write a function that takes a list of numbers as input and returns a new list containing only the even numbers from the input list. Use list comprehension to solve this problem."
   ]
  },
  {
   "cell_type": "code",
   "execution_count": 1,
   "id": "6ccd4a54-ff51-4a0e-b9ff-b35b3a039386",
   "metadata": {},
   "outputs": [],
   "source": [
    "def even_numbers(int_list:list):\n",
    "    even_list=[x for x in int_list if x%2==0]\n",
    "    return even_list"
   ]
  },
  {
   "cell_type": "code",
   "execution_count": 2,
   "id": "77fb9efa-98d7-4eb4-be9e-dcb8c49739d3",
   "metadata": {},
   "outputs": [
    {
     "data": {
      "text/plain": [
       "[2, 4, 6, 8, 10]"
      ]
     },
     "execution_count": 2,
     "metadata": {},
     "output_type": "execute_result"
    }
   ],
   "source": [
    "even_numbers([1,2,3,4,5,6,7,8,9,10])"
   ]
  },
  {
   "cell_type": "code",
   "execution_count": null,
   "id": "302dad86-bd08-482b-91dd-a27b218d453c",
   "metadata": {},
   "outputs": [],
   "source": []
  }
 ],
 "metadata": {
  "kernelspec": {
   "display_name": "Python 3 (ipykernel)",
   "language": "python",
   "name": "python3"
  },
  "language_info": {
   "codemirror_mode": {
    "name": "ipython",
    "version": 3
   },
   "file_extension": ".py",
   "mimetype": "text/x-python",
   "name": "python",
   "nbconvert_exporter": "python",
   "pygments_lexer": "ipython3",
   "version": "3.10.8"
  }
 },
 "nbformat": 4,
 "nbformat_minor": 5
}
