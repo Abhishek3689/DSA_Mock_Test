{
 "cells": [
  {
   "cell_type": "markdown",
   "id": "6f358278-3809-4c3c-b217-bf9d5d3a0474",
   "metadata": {},
   "source": [
    "First Unique Character in a String\n",
    "\n",
    "Given a string s, find the first non-repeating character in it and return its index. If it does not exist, return -1.\n",
    "\n",
    "Example 1:\n",
    "- Input: s = \"leetcode\"\n",
    "- Output: 0\n",
    "\n",
    "Example 2:\n",
    "- Input: s = \"loveleetcode\"\n",
    "- Output: 2\n",
    "\n",
    "Example 3:\n",
    "- Input: s = \"aabb\"\n",
    "- Output: -1"
   ]
  },
  {
   "cell_type": "code",
   "execution_count": 1,
   "id": "1b87077e-c11c-4f40-a076-bdc2b2b555b8",
   "metadata": {},
   "outputs": [],
   "source": [
    "def First_unique_char(string):\n",
    "    string=string.strip()\n",
    "    string=string.lower()\n",
    "    n=len(string)\n",
    "    unique_list=[]\n",
    "    \n",
    "    for i in range(n):\n",
    "        key=string[i]\n",
    "        if key in unique_list:\n",
    "            continue\n",
    "        else:\n",
    "            unique_list.append(key)\n",
    "        if i==n-1:\n",
    "            return i\n",
    "        for j in range(i+1,n):\n",
    "            if string[j]==string[i]:\n",
    "                break\n",
    "        if ((j==n-1) and (string[j]!=key)):\n",
    "            return i\n",
    "    return -1"
   ]
  },
  {
   "cell_type": "code",
   "execution_count": 2,
   "id": "1239142c-698a-40ed-b50b-eb3c449385db",
   "metadata": {},
   "outputs": [
    {
     "data": {
      "text/plain": [
       "2"
      ]
     },
     "execution_count": 2,
     "metadata": {},
     "output_type": "execute_result"
    }
   ],
   "source": [
    "First_unique_char('nishin')"
   ]
  },
  {
   "cell_type": "code",
   "execution_count": 4,
   "id": "4cb723aa-6b24-4f47-8f8c-1b9f3e8efb24",
   "metadata": {},
   "outputs": [
    {
     "data": {
      "text/plain": [
       "0"
      ]
     },
     "execution_count": 4,
     "metadata": {},
     "output_type": "execute_result"
    }
   ],
   "source": [
    "First_unique_char('leetcode')"
   ]
  },
  {
   "cell_type": "code",
   "execution_count": 5,
   "id": "604f58ce-5b9e-495c-a09d-1d2843d7bf24",
   "metadata": {},
   "outputs": [
    {
     "data": {
      "text/plain": [
       "2"
      ]
     },
     "execution_count": 5,
     "metadata": {},
     "output_type": "execute_result"
    }
   ],
   "source": [
    "First_unique_char('loveleetcode')"
   ]
  },
  {
   "cell_type": "code",
   "execution_count": 6,
   "id": "bdda0fd3-e747-46f6-8f76-290bff140253",
   "metadata": {},
   "outputs": [
    {
     "data": {
      "text/plain": [
       "-1"
      ]
     },
     "execution_count": 6,
     "metadata": {},
     "output_type": "execute_result"
    }
   ],
   "source": [
    "First_unique_char('aabb')"
   ]
  },
  {
   "cell_type": "code",
   "execution_count": 7,
   "id": "3634ce03-75ba-4205-ab0b-07ca2da2fc2a",
   "metadata": {},
   "outputs": [
    {
     "data": {
      "text/plain": [
       "3"
      ]
     },
     "execution_count": 7,
     "metadata": {},
     "output_type": "execute_result"
    }
   ],
   "source": [
    "First_unique_char('yuvrajwhyuv')"
   ]
  },
  {
   "cell_type": "code",
   "execution_count": 8,
   "id": "66267dc1-6a4b-477a-b068-f83f3d0aa708",
   "metadata": {},
   "outputs": [
    {
     "data": {
      "text/plain": [
       "7"
      ]
     },
     "execution_count": 8,
     "metadata": {},
     "output_type": "execute_result"
    }
   ],
   "source": [
    "First_unique_char('ababcdced')"
   ]
  },
  {
   "cell_type": "code",
   "execution_count": 9,
   "id": "05250e29-5cfd-4c0c-9ae3-4b07cf023901",
   "metadata": {},
   "outputs": [
    {
     "data": {
      "text/plain": [
       "4"
      ]
     },
     "execution_count": 9,
     "metadata": {},
     "output_type": "execute_result"
    }
   ],
   "source": [
    "First_unique_char('ababc')"
   ]
  },
  {
   "cell_type": "code",
   "execution_count": null,
   "id": "1635461c-b7de-4d98-a4e7-7504223d2cde",
   "metadata": {},
   "outputs": [],
   "source": []
  }
 ],
 "metadata": {
  "kernelspec": {
   "display_name": "Python 3 (ipykernel)",
   "language": "python",
   "name": "python3"
  },
  "language_info": {
   "codemirror_mode": {
    "name": "ipython",
    "version": 3
   },
   "file_extension": ".py",
   "mimetype": "text/x-python",
   "name": "python",
   "nbconvert_exporter": "python",
   "pygments_lexer": "ipython3",
   "version": "3.10.8"
  }
 },
 "nbformat": 4,
 "nbformat_minor": 5
}
